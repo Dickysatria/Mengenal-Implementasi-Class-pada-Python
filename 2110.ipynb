{
 "cells": [
  {
   "cell_type": "code",
   "execution_count": 1,
   "id": "e49740ed",
   "metadata": {},
   "outputs": [
    {
     "name": "stdout",
     "output_type": "stream",
     "text": [
      "mammal\n",
      "mammal\n",
      "I'm a dog\n"
     ]
    }
   ],
   "source": [
    "#Membuat class Dog\n",
    "class Dog:\n",
    "     \n",
    "    #Deklarisasi variable dari class Dog\n",
    "  \n",
    "    attr1 = \"mammal\"\n",
    "    attr2 = \"dog\"\n",
    " \n",
    "    #Deklarisasi fungsi\n",
    "    def fun(self):\n",
    "        print( self.attr1)\n",
    "        print(\"I'm a\", self.attr2)\n",
    " \n",
    "#Memanggil fungsi Dog dengan menjadikan Rodger sebagai variable\n",
    "Rodger = Dog()\n",
    " \n",
    "#Menampilkan attr1 dan memanggil fungsi fun\n",
    "print(Rodger.attr1)\n",
    "Rodger.fun()"
   ]
  },
  {
   "cell_type": "code",
   "execution_count": 2,
   "id": "ea86a135",
   "metadata": {},
   "outputs": [
    {
     "name": "stdout",
     "output_type": "stream",
     "text": [
      "Hello, my name is Nikhil\n"
     ]
    }
   ],
   "source": [
    "class Person:\n",
    "   \n",
    "    # inisialisasi objek dari class Person\n",
    "    def __init__(self, name):\n",
    "        self.name = name\n",
    "   \n",
    "    # inisialisasi say_hi dengan parameter self\n",
    "    def say_hi(self):\n",
    "        print('Hello, my name is', self.name)\n",
    "   \n",
    "p = Person('Nikhil')\n",
    "p.say_hi()"
   ]
  },
  {
   "cell_type": "code",
   "execution_count": 3,
   "id": "66aec29b",
   "metadata": {},
   "outputs": [
    {
     "name": "stdout",
     "output_type": "stream",
     "text": [
      "Name :  Zara , Salary:  2000\n",
      "Name :  Manni , Salary:  5000\n",
      "Total Employee 2\n"
     ]
    }
   ],
   "source": [
    "#mendefinisikan class Employee\n",
    "class Employee:\n",
    "   'Common base class for all employees'\n",
    "   empCount = 0\n",
    "\n",
    "   def __init__(self, name, salary): #deklarasi contructor untuk name dan salary dengan nilai  \n",
    "      self.name = name\n",
    "      self.salary = salary\n",
    "      Employee.empCount += 1\n",
    "   \n",
    "   def displayCount(self): #method untuk menghitung total employee\n",
    "     print (\"Total Employee %d\" %Employee.empCount)\n",
    "\n",
    "   def displayEmployee(self): #method pada tampilan employee untuk menampilkan nama dan salary\n",
    "      print (\"Name : \", self.name,  \", Salary: \", self.salary)\n",
    "\n",
    "# Membuat objek pertama dan seterusnya dari class Employee\n",
    "emp1 = Employee(\"Zara\", 2000)\n",
    "emp2 = Employee(\"Manni\", 5000)\n",
    "# memanggil method displayEmployee dengan mengambil data yg dibuat \n",
    "emp1.displayEmployee()\n",
    "emp2.displayEmployee()\n",
    "#menampilkan totak employess\n",
    "print (\"Total Employee %d\" %Employee.empCount)"
   ]
  },
  {
   "cell_type": "code",
   "execution_count": 29,
   "id": "3f19dc34",
   "metadata": {},
   "outputs": [],
   "source": [
    "#"
   ]
  },
  {
   "cell_type": "code",
   "execution_count": 28,
   "id": "6624a453",
   "metadata": {},
   "outputs": [],
   "source": [
    "#"
   ]
  },
  {
   "cell_type": "code",
   "execution_count": null,
   "id": "14511899",
   "metadata": {},
   "outputs": [],
   "source": [
    "Kasus : Buatlah program berbasis object dengan class Mobil yang terdiri dari atribut noPOL, Merk dan Jenis\n",
    "output :\n",
    "nopol : AB 1234 BX\n",
    "Merk : Toyota\n",
    "jenis : Minibus\n",
    "nopol : AB 1 BX\n",
    "Merk : Lexus\n",
    "jenis : Sedan"
   ]
  },
  {
   "cell_type": "code",
   "execution_count": 27,
   "id": "87bada4d",
   "metadata": {},
   "outputs": [
    {
     "name": "stdout",
     "output_type": "stream",
     "text": [
      "nopol : AB 1234 BX\n",
      "merk : Toyota\n",
      "Jenis: Minibus\n",
      "nopol : AB 1 BX\n",
      "merk : Lexus\n",
      "Jenis: Sedan\n",
      "Total Mobil : 2\n"
     ]
    }
   ],
   "source": [
    "class Mobil:\n",
    "    #Dasar kelas mobil\n",
    "    jumlah_mobil = 0\n",
    "    #membuat objek baru\n",
    "    def __init__(self, nopol, merk,jenis):\n",
    "        self.nopol = nopol\n",
    "        self.merk = merk\n",
    "        self.jenis = jenis\n",
    "        Mobil.jumlah_mobil += 1\n",
    "    #membuat method untuk menampilkan jumlah mobil\n",
    "    def tampilkan_jumlah(self):\n",
    "        print(\"Total Mobil:\", Mobil.jumlah_mobil)\n",
    "    #membuat method untuk menampilkan nopol,merk,jenis\n",
    "    def tampilkan_profil(self):\n",
    "        print(\"nopol :\", self.nopol)\n",
    "        print(\"merk :\", self.merk)\n",
    "        print(\"Jenis:\", self.jenis)\n",
    "\n",
    "# Membuat objek pertama dari kelas Mobil\n",
    "mobil1 = Mobil(\"AB 1234 BX\", \"Toyota\",\"Minibus\")\n",
    "# Membuat objek kedua dari kelas Mobil\n",
    "mobil2 = Mobil(\"AB 1 BX\", \"Lexus\",\"Sedan\")\n",
    "#menampilkan method mobil\n",
    "mobil1.tampilkan_profil()\n",
    "mobil2.tampilkan_profil()\n",
    "print(\"Total Mobil :\", Mobil.jumlah_mobil)"
   ]
  },
  {
   "cell_type": "code",
   "execution_count": 25,
   "id": "391c7b14",
   "metadata": {},
   "outputs": [],
   "source": []
  },
  {
   "cell_type": "code",
   "execution_count": null,
   "id": "f8a657c3",
   "metadata": {},
   "outputs": [],
   "source": []
  }
 ],
 "metadata": {
  "kernelspec": {
   "display_name": "Python 3",
   "language": "python",
   "name": "python3"
  },
  "language_info": {
   "codemirror_mode": {
    "name": "ipython",
    "version": 3
   },
   "file_extension": ".py",
   "mimetype": "text/x-python",
   "name": "python",
   "nbconvert_exporter": "python",
   "pygments_lexer": "ipython3",
   "version": "3.9.5"
  }
 },
 "nbformat": 4,
 "nbformat_minor": 5
}
